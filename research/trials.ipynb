{
 "cells": [
  {
   "cell_type": "code",
   "execution_count": 1,
   "metadata": {},
   "outputs": [],
   "source": [
    "import gdown"
   ]
  },
  {
   "cell_type": "code",
   "execution_count": 2,
   "metadata": {},
   "outputs": [
    {
     "data": {
      "text/plain": [
       "'1CH3yvI6ycIUjna-csPZE9X56yexzh-_f'"
      ]
     },
     "execution_count": 2,
     "metadata": {},
     "output_type": "execute_result"
    }
   ],
   "source": [
    "url = \"https://drive.google.com/file/d/1CH3yvI6ycIUjna-csPZE9X56yexzh-_f/view?usp=drive_link\"\n",
    "file_id = url.split(\"/\")[-2]\n",
    "file_id"
   ]
  },
  {
   "cell_type": "code",
   "execution_count": 3,
   "metadata": {},
   "outputs": [],
   "source": [
    "prefix = \"https://drive.google.com/uc?/export=download&id=\""
   ]
  },
  {
   "cell_type": "code",
   "execution_count": 4,
   "metadata": {},
   "outputs": [
    {
     "name": "stderr",
     "output_type": "stream",
     "text": [
      "Downloading...\n",
      "From (uriginal): https://drive.google.com/uc?/export=download&id=1CH3yvI6ycIUjna-csPZE9X56yexzh-_f\n",
      "From (redirected): https://drive.google.com/uc?/export=download&id=1CH3yvI6ycIUjna-csPZE9X56yexzh-_f&confirm=t&uuid=babd77c2-2a93-4639-9bb7-1fecc6087f2b\n",
      "To: /home/user/Desktop/Main Projects/Disease-classification-Using-Deep-Learning-MLOps/research/kidney-CT-scan.zip\n",
      "100%|██████████| 61.8M/61.8M [00:13<00:00, 4.59MB/s]\n"
     ]
    },
    {
     "data": {
      "text/plain": [
       "'kidney-CT-scan.zip'"
      ]
     },
     "execution_count": 4,
     "metadata": {},
     "output_type": "execute_result"
    }
   ],
   "source": [
    "gdown.download(prefix+file_id, \"kidney-CT-scan.zip\")"
   ]
  }
 ],
 "metadata": {
  "kernelspec": {
   "display_name": "kidney",
   "language": "python",
   "name": "python3"
  },
  "language_info": {
   "codemirror_mode": {
    "name": "ipython",
    "version": 3
   },
   "file_extension": ".py",
   "mimetype": "text/x-python",
   "name": "python",
   "nbconvert_exporter": "python",
   "pygments_lexer": "ipython3",
   "version": "3.8.18"
  },
  "orig_nbformat": 4
 },
 "nbformat": 4,
 "nbformat_minor": 2
}
